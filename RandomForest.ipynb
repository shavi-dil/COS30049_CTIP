{
 "cells": [
  {
   "cell_type": "markdown",
   "id": "81de0667",
   "metadata": {},
   "source": [
    "# Random Forest"
   ]
  },
  {
   "cell_type": "code",
   "execution_count": null,
   "id": "06395679",
   "metadata": {},
   "outputs": [],
   "source": [
    "# Import necessary libraries\n",
    "import numpy as np\n",
    "import matplotlib.pyplot as plt\n",
    "from sklearn.datasets import load_breast_cancer\n",
    "from sklearn.model_selection import train_test_split\n",
    "from sklearn.preprocessing import StandardScaler\n",
    "from sklearn.tree import DecisionTreeClassifier  # For Decision Tree\n",
    "from sklearn.ensemble import RandomForestClassifier  # For Random Forest\n",
    "from sklearn.metrics import accuracy_score, precision_score, recall_score, f1_score, confusion_matrix, classification_report\n",
    "\n",
    "# Load the dataset\n",
    "data = load_breast_cancer()\n",
    "X = data.data\n",
    "y = data.target\n",
    "\n",
    "# Split the data into training and test sets\n",
    "X_train, X_test, y_train, y_test = train_test_split(X, y, test_size=0.2, random_state=42)\n",
    "\n",
    "# Standardize the features\n",
    "scaler = StandardScaler()\n",
    "X_train_scaled = scaler.fit_transform(X_train)\n",
    "X_test_scaled = scaler.transform(X_test)\n",
    "\n",
    "# Initialize Decision Tree and Random Forest\n",
    "decision_tree = DecisionTreeClassifier(random_state=42)  # Decision Tree\n",
    "random_forest = RandomForestClassifier(n_estimators=100, random_state=42)  # Random Forest\n",
    "\n",
    "# Train both models\n",
    "decision_tree.fit(X_train_scaled, y_train)  # Train Decision Tree\n",
    "random_forest.fit(X_train_scaled, y_train)  # Train Random Forest\n",
    "\n",
    "# Predict with both models\n",
    "y_pred_dt = decision_tree.predict(X_test_scaled)  # Predict with Decision Tree\n",
    "y_pred_rf = random_forest.predict(X_test_scaled)  # Predict with Random Forest\n",
    "\n",
    "# Function for evaluation\n",
    "def evaluate_model(y_test, y_pred, model_name):\n",
    "    print(f\"{model_name} Evaluation:\")\n",
    "    print(f\"Accuracy: {accuracy_score(y_test, y_pred):.2f}\")\n",
    "    print(f\"Precision: {precision_score(y_test, y_pred):.2f}\")\n",
    "    print(f\"Recall: {recall_score(y_test, y_pred):.2f}\")\n",
    "    print(f\"F1-Score: {f1_score(y_test, y_pred):.2f}\")\n",
    "    print(\"\\nConfusion Matrix:\")\n",
    "    print(confusion_matrix(y_test, y_pred))\n",
    "    print(\"\\nClassification Report:\")\n",
    "    print(classification_report(y_test, y_pred))\n",
    "    print('-'*50)\n",
    "\n",
    "# Evaluate Decision Tree and Random Forest\n",
    "evaluate_model(y_test, y_pred_dt, \"Decision Tree\")\n",
    "\n",
    "evaluate_model(y_test, y_pred_rf, \"Random Forest\")"
   ]
  }
 ],
 "metadata": {
  "language_info": {
   "name": "python"
  }
 },
 "nbformat": 4,
 "nbformat_minor": 5
}
